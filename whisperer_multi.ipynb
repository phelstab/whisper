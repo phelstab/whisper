{
 "cells": [
  {
   "cell_type": "code",
   "execution_count": null,
   "metadata": {},
   "outputs": [],
   "source": [
    "from moviepy.editor import VideoFileClip\n",
    "import whisper\n",
    "import os\n",
    "\n",
    "def convert_mp4_to_mp3(mp4_path, mp3_path):\n",
    "    video_clip = VideoFileClip(mp4_path)\n",
    "    audio_clip = video_clip.audio\n",
    "    audio_clip.write_audiofile(mp3_path)\n",
    "    audio_clip.close()\n",
    "    video_clip.close()\n",
    "\n",
    "def format_time(seconds):\n",
    "    hours = int(seconds // 3600)\n",
    "    minutes = int((seconds % 3600) // 60)\n",
    "    secs = int(seconds % 60)\n",
    "    millis = int((seconds - int(seconds)) * 1000)\n",
    "    return f\"{hours:02d}:{minutes:02d}:{secs:02d},{millis:03d}\"\n",
    "\n",
    "def process_folder(folder_path):\n",
    "    # Load whisper model once\n",
    "    model = whisper.load_model(\"base\")\n",
    "    \n",
    "    # Process all mp4 files in the folder\n",
    "    for filename in os.listdir(folder_path):\n",
    "        if filename.endswith(\".mp4\"):\n",
    "            mp4_path = os.path.join(folder_path, filename)\n",
    "            mp3_path = os.path.join(folder_path, filename.rsplit(\".\", 1)[0] + \".mp3\")\n",
    "            srt_path = os.path.join(folder_path, filename.rsplit(\".\", 1)[0] + \".srt\")\n",
    "            \n",
    "            print(f\"Processing {filename}...\")\n",
    "            \n",
    "            # Convert MP4 to MP3\n",
    "            convert_mp4_to_mp3(mp4_path, mp3_path)\n",
    "            \n",
    "            # Transcribe audio\n",
    "            result = model.transcribe(mp3_path)\n",
    "            \n",
    "            # Write SRT file\n",
    "            with open(srt_path, \"w\", encoding=\"utf-8\") as srt_file:\n",
    "                for i, segment in enumerate(result[\"segments\"], start=1):\n",
    "                    start_time = format_time(segment[\"start\"])\n",
    "                    end_time = format_time(segment[\"end\"])\n",
    "                    \n",
    "                    srt_file.write(f\"{i}\\n\")\n",
    "                    srt_file.write(f\"{start_time} --> {end_time}\\n\")\n",
    "                    srt_file.write(f\"{segment['text'].strip()}\\n\\n\")\n",
    "            \n",
    "            print(f\"Completed processing {filename}\")\n",
    "\n",
    "# Example usage\n"
   ]
  },
  {
   "cell_type": "code",
   "execution_count": null,
   "metadata": {},
   "outputs": [],
   "source": [
    "\n",
    "process_folder(\"./med/\")"
   ]
  },
  {
   "cell_type": "code",
   "execution_count": null,
   "metadata": {},
   "outputs": [],
   "source": []
  },
  {
   "cell_type": "code",
   "execution_count": null,
   "metadata": {},
   "outputs": [],
   "source": []
  },
  {
   "cell_type": "code",
   "execution_count": null,
   "metadata": {},
   "outputs": [],
   "source": []
  },
  {
   "cell_type": "code",
   "execution_count": null,
   "metadata": {},
   "outputs": [],
   "source": []
  },
  {
   "cell_type": "code",
   "execution_count": null,
   "metadata": {},
   "outputs": [],
   "source": []
  }
 ],
 "metadata": {
  "kernelspec": {
   "display_name": "venv",
   "language": "python",
   "name": "python3"
  },
  "language_info": {
   "codemirror_mode": {
    "name": "ipython",
    "version": 3
   },
   "file_extension": ".py",
   "mimetype": "text/x-python",
   "name": "python",
   "nbconvert_exporter": "python",
   "pygments_lexer": "ipython3",
   "version": "3.11.10"
  }
 },
 "nbformat": 4,
 "nbformat_minor": 2
}
