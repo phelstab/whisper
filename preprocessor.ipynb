{
 "cells": [
  {
   "cell_type": "code",
   "execution_count": null,
   "metadata": {},
   "outputs": [
    {
     "ename": "",
     "evalue": "",
     "output_type": "error",
     "traceback": [
      "\u001b[1;31mThe Kernel crashed while executing code in the current cell or a previous cell. \n",
      "\u001b[1;31mPlease review the code in the cell(s) to identify a possible cause of the failure. \n",
      "\u001b[1;31mClick <a href='https://aka.ms/vscodeJupyterKernelCrash'>here</a> for more info. \n",
      "\u001b[1;31mView Jupyter <a href='command:jupyter.viewOutput'>log</a> for further details."
     ]
    }
   ],
   "source": [
    "\n",
    "\n",
    "import librosa\n",
    "import soundfile as sf\n",
    "import numpy as np\n",
    "from pydub import AudioSegment\n",
    "import whisper\n",
    "\n",
    "def preprocess_audio(input_file, output_file):\n",
    "    # Load the audio file\n",
    "    audio = AudioSegment.from_file(input_file, format=\"mp4\")\n",
    "    \n",
    "    # Convert to WAV format\n",
    "    audio.export(\"temp.wav\", format=\"wav\")\n",
    "    \n",
    "    # Load the WAV file\n",
    "    y, sr = librosa.load(\"temp.wav\", sr=None)\n",
    "    \n",
    "    # Resample to 16kHz (Whisper's preferred sample rate)\n",
    "    y_resampled = librosa.resample(orig_sr=sr, target_sr=16000, y=y)\n",
    "    \n",
    "    # Normalize audio levels\n",
    "    y_normalized = librosa.util.normalize(y_resampled)\n",
    "    \n",
    "    \n",
    "    # Save the preprocessed audio\n",
    "    sf.write(output_file, y_normalized, 16000)\n",
    "\n",
    "\n",
    "# Usage example\n",
    "input_file = \"./quant/quantenprobleme_grover.mp4\"\n",
    "output_file = \"./quant/preprocessed.wav\"\n",
    "\n",
    "preprocess_audio(input_file, output_file)\n",
    "\n",
    "\n",
    "\n"
   ]
  },
  {
   "cell_type": "code",
   "execution_count": null,
   "metadata": {},
   "outputs": [],
   "source": []
  }
 ],
 "metadata": {
  "kernelspec": {
   "display_name": "venv",
   "language": "python",
   "name": "python3"
  },
  "language_info": {
   "codemirror_mode": {
    "name": "ipython",
    "version": 3
   },
   "file_extension": ".py",
   "mimetype": "text/x-python",
   "name": "python",
   "nbconvert_exporter": "python",
   "pygments_lexer": "ipython3",
   "version": "3.11.10"
  }
 },
 "nbformat": 4,
 "nbformat_minor": 2
}
