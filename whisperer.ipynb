{
 "cells": [
  {
   "cell_type": "code",
   "execution_count": 9,
   "metadata": {},
   "outputs": [
    {
     "name": "stdout",
     "output_type": "stream",
     "text": [
      "MoviePy - Writing audio in audio.mp3\n"
     ]
    },
    {
     "name": "stderr",
     "output_type": "stream",
     "text": [
      "                                                                      "
     ]
    },
    {
     "name": "stdout",
     "output_type": "stream",
     "text": [
      "MoviePy - Done.\n"
     ]
    },
    {
     "name": "stderr",
     "output_type": "stream",
     "text": [
      "\r"
     ]
    }
   ],
   "source": [
    "from moviepy.editor import VideoFileClip\n",
    "\n",
    "def convert_mp4_to_mp3(mp4_path, mp3_path):\n",
    "    video_clip = VideoFileClip(mp4_path)\n",
    "    audio_clip = video_clip.audio\n",
    "    audio_clip.write_audiofile(mp3_path)\n",
    "    audio_clip.close()\n",
    "    video_clip.close()\n",
    "\n",
    "# Example usage\n",
    "mp4_file = \"./Radon-Transformation.mp4\"  \n",
    "mp3_file = \"audio.mp3\"\n",
    "convert_mp4_to_mp3(mp4_file, mp3_file)"
   ]
  },
  {
   "cell_type": "code",
   "execution_count": 10,
   "metadata": {},
   "outputs": [],
   "source": [
    "import whisper\n",
    "\n",
    "model = whisper.load_model(\"base\")"
   ]
  },
  {
   "cell_type": "code",
   "execution_count": 11,
   "metadata": {},
   "outputs": [],
   "source": [
    "result = model.transcribe(\"audio.mp3\")"
   ]
  },
  {
   "cell_type": "code",
   "execution_count": 12,
   "metadata": {},
   "outputs": [
    {
     "name": "stdout",
     "output_type": "stream",
     "text": [
      "0.00 - 3.64:  Herzlich willkommen zu diesem Video über die Rad- und Transformation.\n",
      "3.64 - 10.14:  Die Rad- und Transformation ist die Basis für die Computer-Tomographie oder CT, wie sie kurz genannt wird.\n",
      "10.14 - 19.50:  Aber als sie 1917 von dem istreichenden Mathematiker Rad- und entwickelt und vorgestellt wurde, war davon noch gar nichts zu merken.\n",
      "19.50 - 24.08:  Trotzdem ist es ein wichtiges Werkzeug und da möchten wir uns heute mit der Idee beschäftigen.\n",
      "24.08 - 28.44:  Dabei geht es mir nicht darum, dass wir nachher in der Lage sind, das Mathematisch zu berechnen,\n",
      "28.44 - 34.98:  sondern es geht darum, die Idee und die Eigenschaften der Rad- und Transformation zu verstehen.\n",
      "34.98 - 42.98:  Die Rad- und Transformation ist ganz einfach, das Integral über einen Volumen oder eine Fläche.\n",
      "42.98 - 50.66:  Kann es sich zum Beispiel vorstellen, dass wir einen Lichtstrahl oder eben einen Röntgenstrahl durch, einen Material durchschicken.\n",
      "50.66 - 56.30:  Und dann die Summe alle Informationen an allen Stellen auf integrieren.\n",
      "56.30 - 61.24:  Wenn wir da über eine Fläche machen, dann bekommen wir die Rad- und Transformation.\n",
      "61.24 - 63.18:  Bildlich ist das hier dargestellt.\n",
      "63.18 - 67.68:  Wir haben in Grün und den Körper, den wir betrachten.\n",
      "67.68 - 72.48:  Und wir haben in Hell-Crow die einzelnen Integralstraden, die wir durchschicken.\n",
      "72.48 - 77.80:  Wir haben dann die Rad- und Transformation über diese...\n",
      "77.80 - 86.20:  über dieses Volumen mit dem gegebenen Winkel, die wir hier dargestellt sind.\n",
      "86.92 - 89.44:  Und das ist eigentlich schon die Rad- und Transformation.\n",
      "89.44 - 94.70:  Die Rad- und Transformation ist eben, dass wir über einen gewissen Winkel integrieren.\n",
      "94.70 - 103.16:  Typischerweise geben wir die Richtung der Rad- und Transformation eben über eine Winkelfunktion an und dem Abstand zu Mitte.\n",
      "103.16 - 109.52:  Das vereinfacht dann später die Betrachtung und erlaubt uns, Kret und Dante und doppelte Insekrale zu vermeiden.\n",
      "109.52 - 114.16:  Mathematisch notwendig ist das aber an dieser Stelle nicht.\n",
      "114.16 - 115.44:  Ich habe schon anklinken lassen.\n",
      "115.44 - 121.54:  Wir können uns die Rad- und Transformation eben auch als eine Funktion der Röntgenstraht- und Vorstellen.\n",
      "121.54 - 126.76:  Und das zeigt, denn die Mächtigkeit oder warum die Rad- und Transformation zu mächtiges.\n",
      "126.76 - 132.20:  Denn betrachten wir Röntgenstraht, dann bildet das genau das Abwas, was wir hier Mathematisch stimulieren.\n",
      "132.20 - 136.96:  Nämlich die Integral über eine Funktion der Funktionen weisen.\n",
      "138.76 - 143.00:  Wir können also sagen, die Rad- und Transformation über einen Volumen\n",
      "143.00 - 145.52:  ist das, was wir nachher als Röntgenbild sehen.\n",
      "147.52 - 153.76:  Besonders spannend wird das, weil die Rad- und Transformation eine schöne Eigenschaft hat, nämlich das sogenannte Scheiben-Theorie.\n",
      "153.76 - 162.72:  Das Scheiben-Theorie hängt stellt ein Zusammenhang zwischen der Rad- und Transformation und der Fourier-Transformation zusammen, die wir gut kennen.\n",
      "162.72 - 170.60:  Für einfach gesagt können wir sagen, dass die Rad- und Transformation eines zweit einer Zweite Funktion.\n",
      "170.60 - 177.48:  Wenn wir diese dann mit einer einen dimensionalen Fourier-Transformation transformieren, erhalten wir die gleichen Werte.\n",
      "177.48 - 186.32:  Wie wir sie erhalten würden, wenn wir direkt von der zweitimensionalen Funktion in zweite auf den Fourier-Rom gehen würden.\n",
      "186.32 - 193.40:  Das heißt, wir können die Rad- und Transformation nutzen und dann in den zweitimen 2D-Furier-Rom zu kommen.\n",
      "194.40 - 208.00:  Das ist natürlich spannend, weil wir dann nicht nur diesen Weg gehen können, sondern weil wir dann von der Rad- und Transformation auch einen Weg zurückkennen, um in die Fourier wieder in den Originalraum zu kommen.\n",
      "208.00 - 219.64:  Wenn wir uns das bildlich vorstellen, können wir Röntgenbilder aufnehmen, damit die Fourier-Transformation erhalten und somit den Fourier-Rom abtasten.\n",
      "219.64 - 229.64:  Über den Fourier-Rom können wir dann über die Rückwärts-Krücktransformation, da Fourier-Transformation wieder in den Bildbereich kommen.\n",
      "229.64 - 232.64:  Genau das ist die Grundlage für CT.\n"
     ]
    }
   ],
   "source": [
    "for segment in result[\"segments\"]:\n",
    "    print(f\"{segment['start']:.2f} - {segment['end']:.2f}: {segment['text']}\")"
   ]
  },
  {
   "cell_type": "code",
   "execution_count": 13,
   "metadata": {},
   "outputs": [],
   "source": [
    "def format_time(seconds):\n",
    "    hours = int(seconds // 3600)\n",
    "    minutes = int((seconds % 3600) // 60)\n",
    "    secs = int(seconds % 60)\n",
    "    millis = int((seconds - int(seconds)) * 1000)\n",
    "    return f\"{hours:02d}:{minutes:02d}:{secs:02d},{millis:03d}\"\n",
    "\n",
    "with open(\"subtitles.srt\", \"w\", encoding=\"utf-8\") as srt_file:\n",
    "    for i, segment in enumerate(result[\"segments\"], start=1):\n",
    "        start_time = format_time(segment[\"start\"])\n",
    "        end_time = format_time(segment[\"end\"])\n",
    "        \n",
    "        srt_file.write(f\"{i}\\n\")\n",
    "        srt_file.write(f\"{start_time} --> {end_time}\\n\")\n",
    "        srt_file.write(f\"{segment['text'].strip()}\\n\\n\")\n"
   ]
  }
 ],
 "metadata": {
  "kernelspec": {
   "display_name": "venv",
   "language": "python",
   "name": "python3"
  },
  "language_info": {
   "codemirror_mode": {
    "name": "ipython",
    "version": 3
   },
   "file_extension": ".py",
   "mimetype": "text/x-python",
   "name": "python",
   "nbconvert_exporter": "python",
   "pygments_lexer": "ipython3",
   "version": "3.11.9"
  }
 },
 "nbformat": 4,
 "nbformat_minor": 2
}
